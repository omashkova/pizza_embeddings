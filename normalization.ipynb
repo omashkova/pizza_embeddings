{
 "cells": [
  {
   "cell_type": "code",
   "execution_count": 14,
   "metadata": {},
   "outputs": [],
   "source": [
    "import mowl\n",
    "\n",
    "mowl.init_jvm(\"10g\")\n",
    "\n",
    "from de.tudresden.inf.lat.jcel.ontology.normalization import OntologyNormalizer, SimpleNormalizer\n",
    "from de.tudresden.inf.lat.jcel.ontology.axiom.extension import IntegerOntologyObjectFactoryImpl\n",
    "from de.tudresden.inf.lat.jcel.owlapi.translator import ReverseAxiomTranslator, Translator\n",
    "from de.tudresden.inf.lat.jcel.ontology.axiom.complex import IntegerInverseObjectPropertiesAxiom\n",
    "from de.tudresden.inf.lat.jcel.coreontology.axiom import NormalizedIntegerAxiom\n",
    "from org.semanticweb.owlapi.model.parameters import Imports\n",
    "from java.util import HashSet\n",
    "import logging\n",
    "logging.basicConfig(level=logging.INFO)\n",
    "from mowl.owlapi import OWLAPIAdapter\n",
    "from mowl.datasets import PathDataset\n",
    "from mowl.ontology.normalize import process_axiom"
   ]
  },
  {
   "cell_type": "markdown",
   "metadata": {},
   "source": [
    "Let's have a look at one small ontology consisting of just one complex axiom:"
   ]
  },
  {
   "cell_type": "code",
   "execution_count": null,
   "metadata": {},
   "outputs": [],
   "source": [
    "small_ontology = PathDataset(\"small_ontology.owl\").ontology"
   ]
  },
  {
   "cell_type": "markdown",
   "metadata": {},
   "source": [
    "Here's the list of axioms:"
   ]
  },
  {
   "cell_type": "code",
   "execution_count": 4,
   "metadata": {},
   "outputs": [
    {
     "name": "stdout",
     "output_type": "stream",
     "text": [
      "Declaration(Class(<B>))\n",
      "Declaration(Class(<A>))\n",
      "Declaration(Class(<D>))\n",
      "Declaration(ObjectProperty(<s>))\n",
      "Declaration(Class(<C>))\n",
      "Declaration(ObjectProperty(<r>))\n",
      "EquivalentClasses(<A> ObjectIntersectionOf(<B> ObjectSomeValuesFrom(<r> ObjectIntersectionOf(<C> ObjectSomeValuesFrom(<s> <D>)))))\n"
     ]
    }
   ],
   "source": [
    "for ax in list(small_ontology.getAxioms()):\n",
    "    print(str(ax))"
   ]
  },
  {
   "cell_type": "markdown",
   "metadata": {},
   "source": [
    "The code below follows a general procedure for ontology normalization (see [here](https://github.com/bio-ontology-research-group/mowl/blob/main/mowl/ontology/normalize.py)) <br> <br>\n",
    "``Translator`` is used for converting object properties and concept names to integer numbers; normalization is applied to a modified ontology"
   ]
  },
  {
   "cell_type": "code",
   "execution_count": 5,
   "metadata": {},
   "outputs": [],
   "source": [
    "translator = Translator(small_ontology.getOWLOntologyManager().getOWLDataFactory(), IntegerOntologyObjectFactoryImpl())\n",
    "small_axioms = HashSet()\n",
    "small_axioms.addAll(small_ontology.getAxioms())\n",
    "translator.getTranslationRepository().addAxiomEntities(small_ontology)\n",
    "\n",
    "for o in small_ontology.getImportsClosure():\n",
    "    small_axioms.addAll(o.getAxioms())\n",
    "    translator.getTranslationRepository().addAxiomEntities(o)\n",
    "\n",
    "intAxioms = translator.translateSA(small_axioms)"
   ]
  },
  {
   "cell_type": "markdown",
   "metadata": {},
   "source": [
    "Note that ``Translator`` encodes concept names and role names only from the ontology and doesn't take into consideration new concept names. Concept names (different from ``owl:Thing`` and ``owl:Nothing``) are encoded starting from number ``6`` up to ``# of concept names + 4`` (including ``owl:Thing`` and ``owl:Nothing``) according to class declarations; this number is chosen because integers from ``0`` to ``5`` are reserved for bottom and top concepts, bottom and top object and data properties (see [here](https://github.com/julianmendez/jcel/blob/f37f7f6701b58c266aa95528512e73d9f5516644/jcel-coreontology/src/main/java/de/tudresden/inf/lat/jcel/coreontology/datatype/IntegerEntityManager.java#L60)). Role names are encoded starting from ``# of concept names + 5`` up to ``# of concept names + 4 + # of role names``. <br> <br>\n",
    "``intAxioms`` contains encoded ontology axioms:"
   ]
  },
  {
   "cell_type": "code",
   "execution_count": 6,
   "metadata": {},
   "outputs": [
    {
     "name": "stdout",
     "output_type": "stream",
     "text": [
      "Declaration(Class(6))\n",
      "Declaration(Class(7))\n",
      "Declaration(Class(8))\n",
      "Declaration(Class(9))\n",
      "Declaration(ObjectProperty(10))\n",
      "Declaration(ObjectProperty(11))\n",
      "EquivalentClasses(6 ObjectIntersectionOf(ObjectSomeValuesFrom(10 ObjectIntersectionOf(ObjectSomeValuesFrom(11 9) 8)) 7) )\n"
     ]
    }
   ],
   "source": [
    "for ax in list(intAxioms):\n",
    "    print(str(ax))"
   ]
  },
  {
   "cell_type": "markdown",
   "metadata": {},
   "source": [
    "``IntegerOntologyObjectFactoryImpl`` is a factory for generating 'new' concept and role names appearing during normalization procedure rith the help of ``IntegerEntityManager``. Note that the first identifier used is set to integer ``6`` (see [here](https://github.com/julianmendez/jcel/blob/f37f7f6701b58c266aa95528512e73d9f5516644/jcel-coreontology/src/main/java/de/tudresden/inf/lat/jcel/coreontology/datatype/IntegerEntityManager.java#L63) and [here](https://github.com/julianmendez/jcel/blob/f37f7f6701b58c266aa95528512e73d9f5516644/jcel-coreontology/src/main/java/de/tudresden/inf/lat/jcel/coreontology/datatype/IntegerEntityManagerImpl.java#L76)), and then iterator increases the counter by ``1`` (see [here](https://github.com/julianmendez/jcel/blob/f37f7f6701b58c266aa95528512e73d9f5516644/jcel-coreontology/src/main/java/de/tudresden/inf/lat/jcel/coreontology/datatype/IntegerEntityManagerImpl.java#L98)), i.e., it iterates first over concept names from the signature."
   ]
  },
  {
   "cell_type": "code",
   "execution_count": 9,
   "metadata": {},
   "outputs": [],
   "source": [
    "factory = IntegerOntologyObjectFactoryImpl()\n",
    "\n",
    "# axiom normalizer\n",
    "n = SimpleNormalizer(factory)\n",
    "\n",
    "# object properties from the signature encoded\n",
    "objectPropIdSet = HashSet()\n",
    "# in this axiom set axioms need processing are stored\n",
    "currentAxiomSet = HashSet()\n",
    "\n",
    "# first process inverse object properties axioms; we don't have them in our ontology\n",
    "for ax in intAxioms:\n",
    "    objectPropIdSet.addAll(ax.getObjectPropertiesInSignature())\n",
    "    if isinstance(ax, IntegerInverseObjectPropertiesAxiom):\n",
    "        newSet = n.normalize(axiom)\n",
    "        currentAxiomSet.addAll(newSet)\n",
    "    else:\n",
    "        currentAxiomSet.add(ax)"
   ]
  },
  {
   "cell_type": "markdown",
   "metadata": {},
   "source": [
    "Here inverse object property ids are generated; note that they start from ``6``, the first usable identifier. Since we don't have inverse property axioms, no normalized axioms are outputed here. "
   ]
  },
  {
   "cell_type": "code",
   "execution_count": 10,
   "metadata": {},
   "outputs": [
    {
     "name": "stdout",
     "output_type": "stream",
     "text": [
      "object property id = 10\n",
      "corresponding inverse object property id = 6\n",
      "the corresponding axiom = []\n",
      "object property id = 11\n",
      "corresponding inverse object property id = 7\n",
      "the corresponding axiom = []\n"
     ]
    }
   ],
   "source": [
    "for propId in list(objectPropIdSet): \n",
    "\tprint(f'object property id = {propId}')\n",
    "\tinversePropId = factory.getEntityManager().createOrGetInverseObjectPropertyOf(propId)\n",
    "\tprint(f'corresponding inverse object property id = {inversePropId}')\n",
    "\tprint(f'the corresponding axiom = {n.getAxiomsForInverseObjectProperties(propId, inversePropId)}')\n",
    "\tcurrentAxiomSet.addAll(n.getAxiomsForInverseObjectProperties(propId, inversePropId))"
   ]
  },
  {
   "cell_type": "markdown",
   "metadata": {},
   "source": [
    "Let's have a look at the whole normalization procedure. Declaration axioms are ignored. Note that newly sampled concept identifiers start from ``8`` since ``6`` and ``7`` were reserved for inverse object properties during previous steps of normalization algorithm: <br> <br>\n",
    "\n",
    "``not normalized axiom: SubClassOf(ObjectIntersectionOf(ObjectSomeValuesFrom(10 ObjectIntersectionOf(ObjectSomeValuesFrom(11 9) 8)) 7) 6)`` <br>\n",
    "``The axiom is replaced with the following set of axioms:`` <br>\n",
    "``['SubClassOf(ObjectSomeValuesFrom(10 ObjectIntersectionOf(ObjectSomeValuesFrom(11 9) 8)) 8)', 'SubClassOf(ObjectIntersectionOf(7 8) 6)']`` <br> <br>\n",
    "\n",
    "Also note that concept name identifier counter outputs ids which exceed the range of concept identifiers used in the signature (we have 4 concept names, they have identifiers ``6``, ``7``, ``8``, ``9``). This will later make it impossible to convert them into valid OWL SubClassOf axioms. "
   ]
  },
  {
   "cell_type": "code",
   "execution_count": 12,
   "metadata": {},
   "outputs": [
    {
     "name": "stdout",
     "output_type": "stream",
     "text": [
      "===================\n",
      "not normalized axiom: Declaration(Class(6))\n",
      "The axiom is replaced with the following set of axioms:\n",
      "[]\n",
      "not normalized axiom: Declaration(Class(7))\n",
      "The axiom is replaced with the following set of axioms:\n",
      "[]\n",
      "not normalized axiom: Declaration(Class(8))\n",
      "The axiom is replaced with the following set of axioms:\n",
      "[]\n",
      "not normalized axiom: Declaration(Class(9))\n",
      "The axiom is replaced with the following set of axioms:\n",
      "[]\n",
      "not normalized axiom: Declaration(ObjectProperty(10))\n",
      "The axiom is replaced with the following set of axioms:\n",
      "[]\n",
      "not normalized axiom: Declaration(ObjectProperty(11))\n",
      "The axiom is replaced with the following set of axioms:\n",
      "[]\n",
      "not normalized axiom: EquivalentClasses(6 ObjectIntersectionOf(ObjectSomeValuesFrom(10 ObjectIntersectionOf(ObjectSomeValuesFrom(11 9) 8)) 7) )\n",
      "The axiom is replaced with the following set of axioms:\n",
      "['SubClassOf(ObjectIntersectionOf(ObjectSomeValuesFrom(10 ObjectIntersectionOf(ObjectSomeValuesFrom(11 9) 8)) 7) 6)', 'SubClassOf(6 ObjectIntersectionOf(ObjectSomeValuesFrom(10 ObjectIntersectionOf(ObjectSomeValuesFrom(11 9) 8)) 7))']\n",
      "===================\n",
      "not normalized axiom: SubClassOf(ObjectIntersectionOf(ObjectSomeValuesFrom(10 ObjectIntersectionOf(ObjectSomeValuesFrom(11 9) 8)) 7) 6)\n",
      "The axiom is replaced with the following set of axioms:\n",
      "['SubClassOf(ObjectSomeValuesFrom(10 ObjectIntersectionOf(ObjectSomeValuesFrom(11 9) 8)) 8)', 'SubClassOf(ObjectIntersectionOf(7 8) 6)']\n",
      "not normalized axiom: SubClassOf(6 ObjectIntersectionOf(ObjectSomeValuesFrom(10 ObjectIntersectionOf(ObjectSomeValuesFrom(11 9) 8)) 7))\n",
      "The axiom is replaced with the following set of axioms:\n",
      "['SubClassOf(6 ObjectSomeValuesFrom(10 ObjectIntersectionOf(ObjectSomeValuesFrom(11 9) 8)))', 'SubClassOf(6 7)']\n",
      "===================\n",
      "not normalized axiom: SubClassOf(6 ObjectSomeValuesFrom(10 ObjectIntersectionOf(ObjectSomeValuesFrom(11 9) 8)))\n",
      "The axiom is replaced with the following set of axioms:\n",
      "['SubClassOf(6 ObjectSomeValuesFrom(10 9))', 'SubClassOf(9 ObjectIntersectionOf(ObjectSomeValuesFrom(11 9) 8))']\n",
      "not normalized axiom: SubClassOf(ObjectSomeValuesFrom(10 ObjectIntersectionOf(ObjectSomeValuesFrom(11 9) 8)) 8)\n",
      "The axiom is replaced with the following set of axioms:\n",
      "['SubClassOf(ObjectIntersectionOf(ObjectSomeValuesFrom(11 9) 8) 10)', 'SubClassOf(ObjectSomeValuesFrom(10 10) 8)']\n",
      "not normalized axiom: SubClassOf(ObjectIntersectionOf(7 8) 6)\n",
      "The axiom is replaced with the following set of axioms:\n",
      "['SubClassOf*(ObjectIntersectionOf(7 8) 6)']\n",
      "not normalized axiom: SubClassOf(6 7)\n",
      "The axiom is replaced with the following set of axioms:\n",
      "['SubClassOf*(6 7)']\n",
      "===================\n",
      "not normalized axiom: SubClassOf(ObjectIntersectionOf(ObjectSomeValuesFrom(11 9) 8) 10)\n",
      "The axiom is replaced with the following set of axioms:\n",
      "['SubClassOf(ObjectSomeValuesFrom(11 9) 11)', 'SubClassOf(ObjectIntersectionOf(8 11) 10)']\n",
      "not normalized axiom: SubClassOf(6 ObjectSomeValuesFrom(10 9))\n",
      "The axiom is replaced with the following set of axioms:\n",
      "['SubClassOf*(6 ObjectSomeValuesFrom(10 9))']\n",
      "not normalized axiom: SubClassOf(ObjectSomeValuesFrom(10 10) 8)\n",
      "The axiom is replaced with the following set of axioms:\n",
      "['SubClassOf*(ObjectSomeValuesFrom(10 10) 8)']\n",
      "normalized axiom: SubClassOf*(ObjectIntersectionOf(7 8) 6)\n",
      "not normalized axiom: SubClassOf(9 ObjectIntersectionOf(ObjectSomeValuesFrom(11 9) 8))\n",
      "The axiom is replaced with the following set of axioms:\n",
      "['SubClassOf(9 8)', 'SubClassOf(9 ObjectSomeValuesFrom(11 9))']\n",
      "normalized axiom: SubClassOf*(6 7)\n",
      "===================\n",
      "not normalized axiom: SubClassOf(9 8)\n",
      "The axiom is replaced with the following set of axioms:\n",
      "['SubClassOf*(9 8)']\n",
      "normalized axiom: SubClassOf*(6 ObjectSomeValuesFrom(10 9))\n",
      "not normalized axiom: SubClassOf(ObjectSomeValuesFrom(11 9) 11)\n",
      "The axiom is replaced with the following set of axioms:\n",
      "['SubClassOf*(ObjectSomeValuesFrom(11 9) 11)']\n",
      "not normalized axiom: SubClassOf(9 ObjectSomeValuesFrom(11 9))\n",
      "The axiom is replaced with the following set of axioms:\n",
      "['SubClassOf*(9 ObjectSomeValuesFrom(11 9))']\n",
      "normalized axiom: SubClassOf*(ObjectSomeValuesFrom(10 10) 8)\n",
      "not normalized axiom: SubClassOf(ObjectIntersectionOf(8 11) 10)\n",
      "The axiom is replaced with the following set of axioms:\n",
      "['SubClassOf*(ObjectIntersectionOf(8 11) 10)']\n",
      "===================\n",
      "normalized axiom: SubClassOf*(9 8)\n",
      "normalized axiom: SubClassOf*(ObjectIntersectionOf(8 11) 10)\n",
      "normalized axiom: SubClassOf*(9 ObjectSomeValuesFrom(11 9))\n",
      "normalized axiom: SubClassOf*(ObjectSomeValuesFrom(11 9) 11)\n"
     ]
    }
   ],
   "source": [
    "# the set of normalized axioms\n",
    "ret = HashSet()\n",
    "# until the list of axioms need processing is empty\n",
    "while currentAxiomSet.size() > 0:\n",
    "    print(\"===================\")\n",
    "    nextAxiomSet = HashSet()\n",
    "    for axiom in list(currentAxiomSet):\n",
    "        if isinstance(axiom, NormalizedIntegerAxiom):\n",
    "            print(f'normalized axiom: {axiom}')\n",
    "            ret.add(axiom)\n",
    "        else:\n",
    "            print(f'not normalized axiom: {axiom}')\n",
    "            newSet = n.normalize(axiom)\n",
    "            print('The axiom is replaced with the following set of axioms:')\n",
    "            print([str(elem) for elem in list(newSet)])\n",
    "            nextAxiomSet.addAll(newSet)\n",
    "    currentAxiomSet = nextAxiomSet"
   ]
  },
  {
   "cell_type": "markdown",
   "metadata": {},
   "source": [
    "Here's the output of normalization algorithm:"
   ]
  },
  {
   "cell_type": "code",
   "execution_count": 13,
   "metadata": {},
   "outputs": [
    {
     "name": "stdout",
     "output_type": "stream",
     "text": [
      "SubClassOf*(9 8)\n",
      "SubClassOf*(ObjectIntersectionOf(8 11) 10)\n",
      "SubClassOf*(6 ObjectSomeValuesFrom(10 9))\n",
      "SubClassOf*(9 ObjectSomeValuesFrom(11 9))\n",
      "SubClassOf*(ObjectSomeValuesFrom(10 10) 8)\n",
      "SubClassOf*(ObjectIntersectionOf(7 8) 6)\n",
      "SubClassOf*(ObjectSomeValuesFrom(11 9) 11)\n",
      "SubClassOf*(6 7)\n"
     ]
    }
   ],
   "source": [
    "for ax in list(ret):\n",
    "    print(str(ax))"
   ]
  },
  {
   "cell_type": "markdown",
   "metadata": {},
   "source": [
    "Now we need to apply ``ReverseAxiomTranslator`` to get from integer-valued axioms to 'normal' ones. Here you can see that translation map breaks on axioms where new concept names are used (identifiers ``10`` and ``11``). So, the resulting normalized ontology will be missing them. "
   ]
  },
  {
   "cell_type": "code",
   "execution_count": 15,
   "metadata": {},
   "outputs": [
    {
     "name": "stderr",
     "output_type": "stream",
     "text": [
      "INFO:root:Reverse translation. Ignoring axiom: SubClassOf*(ObjectIntersectionOf(8 11) 10)\n",
      "INFO:root:de.tudresden.inf.lat.jcel.owlapi.translator.TranslationException: The translation map is incomplete. Item id was not found: '11'.\n",
      "INFO:root:Reverse translation. Ignoring axiom: SubClassOf*(ObjectSomeValuesFrom(10 10) 8)\n",
      "INFO:root:de.tudresden.inf.lat.jcel.owlapi.translator.TranslationException: The translation map is incomplete. Item id was not found: '10'.\n",
      "INFO:root:Reverse translation. Ignoring axiom: SubClassOf*(ObjectSomeValuesFrom(11 9) 11)\n",
      "INFO:root:de.tudresden.inf.lat.jcel.owlapi.translator.TranslationException: The translation map is incomplete. Item id was not found: '11'.\n"
     ]
    },
    {
     "name": "stdout",
     "output_type": "stream",
     "text": [
      "not processed axiom: SubClassOf*(ObjectIntersectionOf(8 11) 10)\n",
      "not processed axiom: SubClassOf*(ObjectSomeValuesFrom(10 10) 8)\n",
      "not processed axiom: SubClassOf*(ObjectSomeValuesFrom(11 9) 11)\n"
     ]
    }
   ],
   "source": [
    "rTranslator = ReverseAxiomTranslator(translator, small_ontology)\n",
    "for ax in list(ret):\n",
    "    try:\n",
    "        axiom = rTranslator.visit(ax)\n",
    "        key, value = process_axiom(axiom)\n",
    "    except Exception as e:\n",
    "        print(f'not processed axiom: {str(ax)}')\n",
    "        logging.info(\"Reverse translation. Ignoring axiom: %s\", ax)\n",
    "        logging.info(e)"
   ]
  },
  {
   "cell_type": "code",
   "execution_count": null,
   "metadata": {},
   "outputs": [],
   "source": []
  }
 ],
 "metadata": {
  "kernelspec": {
   "display_name": "mowl_env",
   "language": "python",
   "name": "python3"
  },
  "language_info": {
   "codemirror_mode": {
    "name": "ipython",
    "version": 3
   },
   "file_extension": ".py",
   "mimetype": "text/x-python",
   "name": "python",
   "nbconvert_exporter": "python",
   "pygments_lexer": "ipython3",
   "version": "3.11.4"
  }
 },
 "nbformat": 4,
 "nbformat_minor": 2
}
